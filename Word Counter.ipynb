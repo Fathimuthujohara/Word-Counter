{
 "cells": [
  {
   "cell_type": "code",
   "execution_count": 3,
   "id": "b41eb1aa-17b7-4a30-aa3e-8b5091068e8d",
   "metadata": {},
   "outputs": [
    {
     "name": "stdout",
     "output_type": "stream",
     "text": [
      "__        __            _    ____                  _            \n",
      "\\ \\      / /__  _ __ __| |  / ___|___  _   _ _ __ | |_ ___ _ __ \n",
      " \\ \\ /\\ / / _ \\| '__/ _` | | |   / _ \\| | | | '_ \\| __/ _ \\ '__|\n",
      "  \\ V  V / (_) | | | (_| | | |__| (_) | |_| | | | | ||  __/ |   \n",
      "   \\_/\\_/ \\___/|_|  \\__,_|  \\____\\___/ \\__,_|_| |_|\\__\\___|_|   \n",
      "                                                                \n",
      "\n",
      "Welcome to the Word Counter Program!\n"
     ]
    },
    {
     "name": "stdin",
     "output_type": "stream",
     "text": [
      "Please enter a sentence or paragraph:  i feel so sad. i dont know what to do or how to tell someone.my parents get worrried because of e\n"
     ]
    },
    {
     "name": "stdout",
     "output_type": "stream",
     "text": [
      "The number of words in the given text is: 21\n",
      "Keep up the great work! Happy counting!\n"
     ]
    }
   ],
   "source": [
    "import colorama\n",
    "from colorama import Fore, Style\n",
    "import pyfiglet\n",
    "\n",
    "# Initialize colorama\n",
    "colorama.init(autoreset=True)\n",
    "\n",
    "def print_title():\n",
    "    \"\"\"Print the title of the program.\"\"\"\n",
    "    title = pyfiglet.figlet_format(\"Word Counter\")\n",
    "    print(Fore.CYAN + title)\n",
    "\n",
    "def get_user_input():\n",
    "    \"\"\"Prompt the user to enter a sentence or paragraph and return it.\"\"\"\n",
    "    print(Fore.GREEN + \"Welcome to the Word Counter Program!\")\n",
    "    user_input = input(\"Please enter a sentence or paragraph: \")\n",
    "    return user_input\n",
    "\n",
    "def count_words(text):\n",
    "    \"\"\"Count the number of words in the given text.\"\"\"\n",
    "    words = text.split()  # Split the text into words\n",
    "    return len(words)\n",
    "\n",
    "def main():\n",
    "    \"\"\"Main function to run the word counter program.\"\"\"\n",
    "    print_title()\n",
    "    text = get_user_input()\n",
    "    if not text.strip():  # Check if the input is empty\n",
    "        print(Fore.RED + \"Oops! The input is empty. Please enter a valid sentence or paragraph.\")\n",
    "    else:\n",
    "        word_count = count_words(text)\n",
    "        print(Fore.YELLOW + f\"The number of words in the given text is: {word_count}\")\n",
    "        print(Fore.MAGENTA + \"Keep up the great work! Happy counting!\")\n",
    "\n",
    "if __name__ == \"__main__\":\n",
    "    main()\n"
   ]
  },
  {
   "cell_type": "code",
   "execution_count": null,
   "id": "380ed357-53f5-4be6-884f-5cb99c61d569",
   "metadata": {},
   "outputs": [],
   "source": []
  }
 ],
 "metadata": {
  "kernelspec": {
   "display_name": "Python 3 (ipykernel)",
   "language": "python",
   "name": "python3"
  },
  "language_info": {
   "codemirror_mode": {
    "name": "ipython",
    "version": 3
   },
   "file_extension": ".py",
   "mimetype": "text/x-python",
   "name": "python",
   "nbconvert_exporter": "python",
   "pygments_lexer": "ipython3",
   "version": "3.11.7"
  }
 },
 "nbformat": 4,
 "nbformat_minor": 5
}
